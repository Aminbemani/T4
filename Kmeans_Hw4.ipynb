{
 "cells": [
  {
   "cell_type": "code",
   "execution_count": 62,
   "metadata": {},
   "outputs": [],
   "source": [
    "import numpy as np\n",
    "import pandas as pd\n",
    "import matplotlib.pyplot as plt\n",
    "from sklearn.cluster import KMeans"
   ]
  },
  {
   "cell_type": "markdown",
   "metadata": {},
   "source": [
    "# Reading datasets:"
   ]
  },
  {
   "cell_type": "code",
   "execution_count": 63,
   "metadata": {},
   "outputs": [],
   "source": [
    "df_train=pd.read_csv('mnist_train.csv')\n",
    "df_test=pd.read_csv('mnist_test.csv')"
   ]
  },
  {
   "cell_type": "code",
   "execution_count": 64,
   "metadata": {},
   "outputs": [],
   "source": [
    "df_train=df_train.to_numpy()\n",
    "df_test=df_test.to_numpy()"
   ]
  },
  {
   "cell_type": "code",
   "execution_count": 65,
   "metadata": {},
   "outputs": [
    {
     "name": "stdout",
     "output_type": "stream",
     "text": [
      "(60000, 784)\n"
     ]
    }
   ],
   "source": [
    "df_train=df_train[0:60000,:]\n",
    "data=df_train[:,1:]\n",
    "print(data.shape)\n",
    "data=data/255"
   ]
  },
  {
   "cell_type": "markdown",
   "metadata": {},
   "source": [
    "# K-means with number of cluster of 10:"
   ]
  },
  {
   "cell_type": "code",
   "execution_count": 66,
   "metadata": {},
   "outputs": [
    {
     "name": "stdout",
     "output_type": "stream",
     "text": [
      "Number of data with label of [4] is 5414 with accuracy of 0.4041374214998153\n",
      "Number of data with label of [2] is 4636 with accuracy of 0.9042277825711821\n",
      "Number of data with label of [1] is 5316 with accuracy of 0.5594431903686983\n",
      "Number of data with label of [7] is 6674 with accuracy of 0.42298471681150734\n",
      "Number of data with label of [0] is 4974 with accuracy of 0.9398874145556896\n",
      "Number of data with label of [3] is 7795 with accuracy of 0.4987812700449006\n",
      "Number of data with label of [1] is 5499 with accuracy of 0.6757592289507183\n",
      "Number of data with label of [6] is 5394 with accuracy of 0.8511308861698184\n",
      "Number of data with label of [8] is 7062 with accuracy of 0.4393939393939394\n",
      "Number of data with label of [9] is 7236 with accuracy of 0.3414870093974572\n"
     ]
    }
   ],
   "source": [
    "clu=KMeans(n_clusters=10)\n",
    "clu.fit_predict(data)\n",
    "y=clu.labels_\n",
    "for i in range(y.min(),y.max()+1):\n",
    "    list1=df_train[y==i]\n",
    "    unique, counts = np.unique(list1[:,0], return_counts=True)\n",
    "    acc=max(counts)/list1.shape[0]\n",
    "    u=unique[np.where(counts==max(counts))]\n",
    "    print('Number of data with label of {} is {} with accuracy of {}'.format(u,list1.shape[0],acc))"
   ]
  },
  {
   "cell_type": "markdown",
   "metadata": {},
   "source": [
    "# Elbow :"
   ]
  },
  {
   "cell_type": "code",
   "execution_count": 68,
   "metadata": {},
   "outputs": [
    {
     "data": {
      "text/plain": [
       "[<matplotlib.lines.Line2D at 0xc39a8c8>]"
      ]
     },
     "execution_count": 68,
     "metadata": {},
     "output_type": "execute_result"
    },
    {
     "data": {
      "image/png": "[encoded data removed]",
      "text/plain": [
       "<Figure size 432x288 with 1 Axes>"
      ]
     },
     "metadata": {
      "needs_background": "light"
     },
     "output_type": "display_data"
    }
   ],
   "source": [
    "inertias=[]\n",
    "for n_clusters in range(1,14):\n",
    "    clu=KMeans(n_clusters=n_clusters)\n",
    "    clu.fit_predict(data)\n",
    "    inertias.append(clu.inertia_)\n",
    "\n",
    "plt.plot(range(1,14),inertias,'bo-')"
   ]
  },
  {
   "cell_type": "code",
   "execution_count": null,
   "metadata": {},
   "outputs": [],
   "source": []
  }
 ],
 "metadata": {
  "kernelspec": {
   "display_name": "Python 3",
   "language": "python",
   "name": "python3"
  },
  "language_info": {
   "codemirror_mode": {
    "name": "ipython",
    "version": 3
   },
   "file_extension": ".py",
   "mimetype": "text/x-python",
   "name": "python",
   "nbconvert_exporter": "python",
   "pygments_lexer": "ipython3",
   "version": "3.7.6"
  }
 },
 "nbformat": 4,
 "nbformat_minor": 4
}
